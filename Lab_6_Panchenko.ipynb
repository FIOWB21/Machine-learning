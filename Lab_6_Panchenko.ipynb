{
  "metadata": {
    "kernelspec": {
      "language": "python",
      "display_name": "Python 3",
      "name": "python3"
    },
    "language_info": {
      "name": "python",
      "version": "3.11.11",
      "mimetype": "text/x-python",
      "codemirror_mode": {
        "name": "ipython",
        "version": 3
      },
      "pygments_lexer": "ipython3",
      "nbconvert_exporter": "python",
      "file_extension": ".py"
    },
    "kaggle": {
      "accelerator": "gpu",
      "dataSources": [
        {
          "sourceId": 11119991,
          "sourceType": "datasetVersion",
          "datasetId": 6934182
        }
      ],
      "dockerImageVersionId": 31011,
      "isInternetEnabled": true,
      "language": "python",
      "sourceType": "notebook",
      "isGpuEnabled": true
    },
    "colab": {
      "name": "Lab_6 Panchenko",
      "provenance": [],
      "include_colab_link": true
    }
  },
  "nbformat_minor": 0,
  "nbformat": 4,
  "cells": [
    {
      "cell_type": "markdown",
      "metadata": {
        "id": "view-in-github",
        "colab_type": "text"
      },
      "source": [
        "<a href=\"https://colab.research.google.com/github/FIOWB21/Machine-learning/blob/main/Lab_6_Panchenko.ipynb\" target=\"_parent\"><img src=\"https://colab.research.google.com/assets/colab-badge.svg\" alt=\"Open In Colab\"/></a>"
      ]
    },
    {
      "source": [
        "# IMPORTANT: RUN THIS CELL IN ORDER TO IMPORT YOUR KAGGLE DATA SOURCES,\n",
        "# THEN FEEL FREE TO DELETE THIS CELL.\n",
        "# NOTE: THIS NOTEBOOK ENVIRONMENT DIFFERS FROM KAGGLE'S PYTHON\n",
        "# ENVIRONMENT SO THERE MAY BE MISSING LIBRARIES USED BY YOUR\n",
        "# NOTEBOOK.\n",
        "import kagglehub\n",
        "shlokraval_ppe_dataset_yolov8_path = kagglehub.dataset_download('shlokraval/ppe-dataset-yolov8')\n",
        "\n",
        "print('Data source import complete.')\n"
      ],
      "metadata": {
        "id": "czr4dNmyVxYH",
        "outputId": "7ca2424f-5496-4762-f7e1-ff0f49c6937b",
        "colab": {
          "base_uri": "https://localhost:8080/"
        }
      },
      "cell_type": "code",
      "outputs": [
        {
          "output_type": "stream",
          "name": "stdout",
          "text": [
            "Downloading from https://www.kaggle.com/api/v1/datasets/download/shlokraval/ppe-dataset-yolov8?dataset_version_number=1...\n"
          ]
        },
        {
          "output_type": "stream",
          "name": "stderr",
          "text": [
            "100%|██████████| 2.35G/2.35G [00:28<00:00, 88.1MB/s]"
          ]
        },
        {
          "output_type": "stream",
          "name": "stdout",
          "text": [
            "Extracting files...\n"
          ]
        },
        {
          "output_type": "stream",
          "name": "stderr",
          "text": [
            "\n"
          ]
        },
        {
          "output_type": "stream",
          "name": "stdout",
          "text": [
            "Data source import complete.\n"
          ]
        }
      ],
      "execution_count": 1
    },
    {
      "cell_type": "code",
      "source": [
        "!pip install ultralytics --upgrade --quiet\n",
        "\n",
        "import torch\n",
        "from ultralytics import YOLO\n",
        "import matplotlib.pyplot as plt\n",
        "import numpy as np\n",
        "import cv2\n",
        "import os\n"
      ],
      "metadata": {
        "_uuid": "8f2839f25d086af736a60e9eeb907d3b93b6e0e5",
        "_cell_guid": "b1076dfc-b9ad-4769-8c92-a6c4dae69d19",
        "trusted": true,
        "execution": {
          "iopub.status.busy": "2025-04-29T09:27:00.243987Z",
          "iopub.execute_input": "2025-04-29T09:27:00.244522Z",
          "iopub.status.idle": "2025-04-29T09:28:22.365726Z",
          "shell.execute_reply.started": "2025-04-29T09:27:00.244496Z",
          "shell.execute_reply": "2025-04-29T09:28:22.36512Z"
        },
        "id": "BRTBGpjoVxYK",
        "outputId": "dd8ddfc3-c8c5-450f-89c7-7e52010db5f1",
        "colab": {
          "base_uri": "https://localhost:8080/"
        }
      },
      "outputs": [
        {
          "output_type": "stream",
          "name": "stdout",
          "text": [
            "\u001b[2K   \u001b[90m━━━━━━━━━━━━━━━━━━━━━━━━━━━━━━━━━━━━━━━━\u001b[0m \u001b[32m1.0/1.0 MB\u001b[0m \u001b[31m19.0 MB/s\u001b[0m eta \u001b[36m0:00:00\u001b[0m\n",
            "\u001b[2K   \u001b[90m━━━━━━━━━━━━━━━━━━━━━━━━━━━━━━━━━━━━━━━━\u001b[0m \u001b[32m363.4/363.4 MB\u001b[0m \u001b[31m2.7 MB/s\u001b[0m eta \u001b[36m0:00:00\u001b[0m\n",
            "\u001b[2K   \u001b[90m━━━━━━━━━━━━━━━━━━━━━━━━━━━━━━━━━━━━━━━━\u001b[0m \u001b[32m13.8/13.8 MB\u001b[0m \u001b[31m106.8 MB/s\u001b[0m eta \u001b[36m0:00:00\u001b[0m\n",
            "\u001b[2K   \u001b[90m━━━━━━━━━━━━━━━━━━━━━━━━━━━━━━━━━━━━━━━━\u001b[0m \u001b[32m24.6/24.6 MB\u001b[0m \u001b[31m84.8 MB/s\u001b[0m eta \u001b[36m0:00:00\u001b[0m\n",
            "\u001b[2K   \u001b[90m━━━━━━━━━━━━━━━━━━━━━━━━━━━━━━━━━━━━━━━━\u001b[0m \u001b[32m883.7/883.7 kB\u001b[0m \u001b[31m42.8 MB/s\u001b[0m eta \u001b[36m0:00:00\u001b[0m\n",
            "\u001b[2K   \u001b[90m━━━━━━━━━━━━━━━━━━━━━━━━━━━━━━━━━━━━━━━━\u001b[0m \u001b[32m664.8/664.8 MB\u001b[0m \u001b[31m2.6 MB/s\u001b[0m eta \u001b[36m0:00:00\u001b[0m\n",
            "\u001b[2K   \u001b[90m━━━━━━━━━━━━━━━━━━━━━━━━━━━━━━━━━━━━━━━━\u001b[0m \u001b[32m211.5/211.5 MB\u001b[0m \u001b[31m6.9 MB/s\u001b[0m eta \u001b[36m0:00:00\u001b[0m\n",
            "\u001b[2K   \u001b[90m━━━━━━━━━━━━━━━━━━━━━━━━━━━━━━━━━━━━━━━━\u001b[0m \u001b[32m56.3/56.3 MB\u001b[0m \u001b[31m13.3 MB/s\u001b[0m eta \u001b[36m0:00:00\u001b[0m\n",
            "\u001b[2K   \u001b[90m━━━━━━━━━━━━━━━━━━━━━━━━━━━━━━━━━━━━━━━━\u001b[0m \u001b[32m127.9/127.9 MB\u001b[0m \u001b[31m7.5 MB/s\u001b[0m eta \u001b[36m0:00:00\u001b[0m\n",
            "\u001b[2K   \u001b[90m━━━━━━━━━━━━━━━━━━━━━━━━━━━━━━━━━━━━━━━━\u001b[0m \u001b[32m207.5/207.5 MB\u001b[0m \u001b[31m5.6 MB/s\u001b[0m eta \u001b[36m0:00:00\u001b[0m\n",
            "\u001b[2K   \u001b[90m━━━━━━━━━━━━━━━━━━━━━━━━━━━━━━━━━━━━━━━━\u001b[0m \u001b[32m21.1/21.1 MB\u001b[0m \u001b[31m93.5 MB/s\u001b[0m eta \u001b[36m0:00:00\u001b[0m\n",
            "\u001b[?25h"
          ]
        }
      ],
      "execution_count": null
    },
    {
      "cell_type": "code",
      "source": [
        "# Виведемо кількість тренувальних та валідаційних зображень\n",
        "print(\"Train Images:\", len(os.listdir(os.path.join('/kaggle/input/ppe-dataset-yolov8/train', 'images'))))\n",
        "print(\"Validation Images:\", len(os.listdir(os.path.join('/kaggle/input/ppe-dataset-yolov8/valid', 'images'))))\n"
      ],
      "metadata": {
        "trusted": true,
        "execution": {
          "iopub.status.busy": "2025-04-29T09:28:22.367047Z",
          "iopub.execute_input": "2025-04-29T09:28:22.36746Z",
          "iopub.status.idle": "2025-04-29T09:28:23.03537Z",
          "shell.execute_reply.started": "2025-04-29T09:28:22.367431Z",
          "shell.execute_reply": "2025-04-29T09:28:23.034675Z"
        },
        "id": "UDGM7AA8VxYK"
      },
      "outputs": [],
      "execution_count": null
    },
    {
      "cell_type": "code",
      "source": [
        "# Візуалізація прикладу тренувального зображення\n",
        "sample_img_path = os.path.join('/kaggle/input/ppe-dataset-yolov8','train' , 'images', os.listdir(os.path.join('/kaggle/input/ppe-dataset-yolov8','train', 'images'))[0])\n",
        "sample_img = cv2.imread(sample_img_path)\n",
        "sample_img = cv2.cvtColor(sample_img, cv2.COLOR_BGR2RGB)\n",
        "\n",
        "plt.figure(figsize=(8,8))\n",
        "plt.imshow(sample_img)\n",
        "plt.title('Приклад тренувального зображення')\n",
        "plt.axis('off')\n",
        "plt.show()"
      ],
      "metadata": {
        "trusted": true,
        "execution": {
          "iopub.status.busy": "2025-04-29T09:28:23.036132Z",
          "iopub.execute_input": "2025-04-29T09:28:23.036401Z",
          "iopub.status.idle": "2025-04-29T09:28:23.438229Z",
          "shell.execute_reply.started": "2025-04-29T09:28:23.036383Z",
          "shell.execute_reply": "2025-04-29T09:28:23.437464Z"
        },
        "id": "dag-tcQrVxYK"
      },
      "outputs": [],
      "execution_count": null
    },
    {
      "cell_type": "code",
      "source": [
        "# Завантаження моделі YOLOv8\n",
        "model = YOLO('yolov8n.pt')  # Завантажуємо попередньо навчену модель"
      ],
      "metadata": {
        "trusted": true,
        "execution": {
          "iopub.status.busy": "2025-04-29T09:28:23.438981Z",
          "iopub.execute_input": "2025-04-29T09:28:23.439227Z",
          "iopub.status.idle": "2025-04-29T09:28:24.197958Z",
          "shell.execute_reply.started": "2025-04-29T09:28:23.439209Z",
          "shell.execute_reply": "2025-04-29T09:28:24.197167Z"
        },
        "id": "FHYsos0UVxYL"
      },
      "outputs": [],
      "execution_count": null
    },
    {
      "cell_type": "code",
      "source": [
        "# Тренування моделі\n",
        "results = model.train(\n",
        "    data='/kaggle/input/ppe-dataset-yolov8/data.yaml',\n",
        "    epochs=5,\n",
        "    imgsz=640,\n",
        "    batch=16,\n",
        "    device=0,\n",
        "    name='yolov8_ppe_detection'\n",
        ")"
      ],
      "metadata": {
        "trusted": true,
        "execution": {
          "iopub.status.busy": "2025-04-29T09:28:24.199829Z",
          "iopub.execute_input": "2025-04-29T09:28:24.20013Z",
          "iopub.status.idle": "2025-04-29T10:09:38.21873Z",
          "shell.execute_reply.started": "2025-04-29T09:28:24.200111Z",
          "shell.execute_reply": "2025-04-29T10:09:38.21795Z"
        },
        "id": "4j7wya0kVxYL"
      },
      "outputs": [],
      "execution_count": null
    },
    {
      "cell_type": "code",
      "source": [
        "# Оцінка моделі\n",
        "metrics = model.val()  # Оцінка на валідаційному наборі\n",
        "print(\"Metrics:\", metrics)"
      ],
      "metadata": {
        "trusted": true,
        "execution": {
          "iopub.status.busy": "2025-04-29T10:09:38.220247Z",
          "iopub.execute_input": "2025-04-29T10:09:38.220612Z",
          "iopub.status.idle": "2025-04-29T10:10:48.892391Z",
          "shell.execute_reply.started": "2025-04-29T10:09:38.22057Z",
          "shell.execute_reply": "2025-04-29T10:10:48.891536Z"
        },
        "id": "y6pb-OeeVxYL"
      },
      "outputs": [],
      "execution_count": null
    },
    {
      "cell_type": "code",
      "source": [
        "import pandas as pd\n",
        "# Візуалізація кривих навчання\n",
        "results_path = '/kaggle/working/runs/detect/yolov8_ppe_detection/results.csv'\n",
        "if os.path.exists(results_path):\n",
        "    results_data = pd.read_csv(results_path)\n",
        "\n",
        "    # Визначимо доступні колонки\n",
        "    available_columns = results_data.columns\n",
        "    print(\"Доступні колонки у results.csv:\", available_columns)\n",
        "\n",
        "    plt.figure(figsize=(12, 8))\n",
        "\n",
        "    # Втрати (Losses)\n",
        "    if 'train/box_loss' in available_columns and 'val/box_loss' in available_columns:\n",
        "        plt.subplot(2, 2, 1)\n",
        "        plt.plot(results_data['epoch'], results_data['train/box_loss'], label='Train Box Loss')\n",
        "        plt.plot(results_data['epoch'], results_data['val/box_loss'], label='Val Box Loss')\n",
        "        plt.title('Box Loss')\n",
        "        plt.legend()\n",
        "\n",
        "    if 'train/cls_loss' in available_columns and 'val/cls_loss' in available_columns:\n",
        "        plt.subplot(2, 2, 2)\n",
        "        plt.plot(results_data['epoch'], results_data['train/cls_loss'], label='Train Class Loss')\n",
        "        plt.plot(results_data['epoch'], results_data['val/cls_loss'], label='Val Class Loss')\n",
        "        plt.title('Class Loss')\n",
        "        plt.legend()\n",
        "\n",
        "    # Метрики якості - можуть мати інші назви\n",
        "    precision_col = next((col for col in available_columns if 'precision' in col.lower()), None)\n",
        "    recall_col = next((col for col in available_columns if 'recall' in col.lower()), None)\n",
        "\n",
        "    if precision_col:\n",
        "        plt.subplot(2, 2, 3)\n",
        "        plt.plot(results_data['epoch'], results_data[precision_col], label='Precision')\n",
        "        plt.title('Precision')\n",
        "        plt.legend()\n",
        "\n",
        "    if recall_col:\n",
        "        plt.subplot(2, 2, 4)\n",
        "        plt.plot(results_data['epoch'], results_data[recall_col], label='Recall')\n",
        "        plt.title('Recall')\n",
        "        plt.legend()\n",
        "\n",
        "    plt.tight_layout()\n",
        "    plt.show()\n"
      ],
      "metadata": {
        "trusted": true,
        "execution": {
          "iopub.status.busy": "2025-04-29T10:19:14.850486Z",
          "iopub.execute_input": "2025-04-29T10:19:14.851141Z",
          "iopub.status.idle": "2025-04-29T10:19:15.549762Z",
          "shell.execute_reply.started": "2025-04-29T10:19:14.851115Z",
          "shell.execute_reply": "2025-04-29T10:19:15.549069Z"
        },
        "id": "zerMQZDAVxYL"
      },
      "outputs": [],
      "execution_count": null
    },
    {
      "cell_type": "code",
      "source": [
        "# Тестування моделі на прикладі зображення\n",
        "test_img_path = os.path.join('/kaggle/input/ppe-dataset-yolov8/valid', 'images', os.listdir(os.path.join('/kaggle/input/ppe-dataset-yolov8/valid', 'images'))[0])\n",
        "results = model.predict(test_img_path, save=True, conf=0.5)"
      ],
      "metadata": {
        "trusted": true,
        "execution": {
          "iopub.status.busy": "2025-04-29T10:19:26.359496Z",
          "iopub.execute_input": "2025-04-29T10:19:26.359769Z",
          "iopub.status.idle": "2025-04-29T10:19:26.425969Z",
          "shell.execute_reply.started": "2025-04-29T10:19:26.359751Z",
          "shell.execute_reply": "2025-04-29T10:19:26.425256Z"
        },
        "id": "vU6dBLfhVxYM"
      },
      "outputs": [],
      "execution_count": null
    },
    {
      "cell_type": "code",
      "source": [
        "# Візуалізація результатів детекції\n",
        "for result in results:\n",
        "    result_img = result.plot()  # Генеруємо зображення з bounding boxes\n",
        "    plt.figure(figsize=(12, 8))\n",
        "    plt.imshow(result_img)\n",
        "    plt.title('Результати детекції')\n",
        "    plt.axis('off')\n",
        "    plt.show()\n",
        "\n",
        "    # Виведемо інформацію про детектовані об'єкти\n",
        "    print(\"Детектовані об'єкти:\")\n",
        "    for box in result.boxes:\n",
        "        class_id = int(box.cls)\n",
        "        class_name = model.names[class_id]\n",
        "        confidence = float(box.conf)\n",
        "        print(f\"- {class_name}: {confidence:.2f}\")"
      ],
      "metadata": {
        "trusted": true,
        "execution": {
          "iopub.status.busy": "2025-04-29T10:19:35.287812Z",
          "iopub.execute_input": "2025-04-29T10:19:35.288547Z",
          "iopub.status.idle": "2025-04-29T10:19:35.540474Z",
          "shell.execute_reply.started": "2025-04-29T10:19:35.288521Z",
          "shell.execute_reply": "2025-04-29T10:19:35.539761Z"
        },
        "id": "hHvNFXj-VxYM"
      },
      "outputs": [],
      "execution_count": null
    },
    {
      "cell_type": "markdown",
      "source": [
        "Висновок: Модель YOLOv8 успішно навчена на наборі даних PPE. Криві навчання показують збіжність моделі, зменшення втрат протягом навчання, метрики якості (precision, recall) демонструють ефективність моделі у виявленні об'єктів. Візуалізація результатів детекції підтверджує здатність моделі коректно ідентифікувати засоби захисту на зображеннях."
      ],
      "metadata": {
        "id": "gLW4WlN0VxYM"
      }
    }
  ]
}